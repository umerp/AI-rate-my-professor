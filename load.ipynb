{
 "cells": [
  {
   "cell_type": "code",
   "execution_count": 12,
   "metadata": {},
   "outputs": [],
   "source": [
    "from dotenv import load_dotenv\n",
    "load_dotenv()\n",
    "import os\n",
    "from openai import openai\n",
    "import pinecone\n",
    "from pinecone import Pinecone, ServerlessSpec\n"
   ]
  },
  {
   "cell_type": "code",
   "execution_count": 15,
   "metadata": {},
   "outputs": [],
   "source": [
    "pc = Pinecone(api_key=os.getenv(\"PINECONE_API_KEY\"))\n",
    "pc.create_index( \n",
    "    name=\"rag\", dimension=1536, metric=\"cosine\", spec=ServerlessSpec(cloud=\"aws\",region=\"us-east-1\")\n",
    ")"
   ]
  },
  {
   "cell_type": "code",
   "execution_count": 18,
   "metadata": {},
   "outputs": [
    {
     "data": {
      "text/plain": [
       "[{'professor': 'Dr. Alice Johnson',\n",
       "  'subject': 'Introduction to Psychology',\n",
       "  'stars': 5,\n",
       "  'review': 'Dr. Johnson is an excellent professor who makes complex concepts easy to understand. Her lectures are engaging and she is very approachable for help.'},\n",
       " {'professor': 'Professor Bob Smith',\n",
       "  'subject': 'Calculus I',\n",
       "  'stars': 4,\n",
       "  'review': 'Professor Smith is knowledgeable and provides clear explanations. However, his assignments can be quite challenging and there is little feedback on grading.'},\n",
       " {'professor': 'Dr. Clara Nguyen',\n",
       "  'subject': 'Organic Chemistry',\n",
       "  'stars': 3,\n",
       "  'review': \"Dr. Nguyen's class is informative but can be a bit disorganized. She tends to rush through material and the exams are very difficult.\"},\n",
       " {'professor': 'Dr. David Lee',\n",
       "  'subject': 'Modern Literature',\n",
       "  'stars': 4,\n",
       "  'review': 'Dr. Lee is passionate about literature and his discussions are always stimulating. The coursework is intensive but rewarding.'},\n",
       " {'professor': 'Professor Emily Clark',\n",
       "  'subject': 'Introduction to Computer Science',\n",
       "  'stars': 5,\n",
       "  'review': 'Professor Clark is fantastic! She makes programming accessible and fun. Her labs are very practical and useful for understanding the concepts.'},\n",
       " {'professor': 'Dr. Fiona Martinez',\n",
       "  'subject': 'Advanced Calculus',\n",
       "  'stars': 2,\n",
       "  'review': 'Dr. Martinez is a knowledgeable professor but struggles with communication. Her lectures are often difficult to follow and her grading is harsh.'},\n",
       " {'professor': 'Professor George White',\n",
       "  'subject': 'Microeconomics',\n",
       "  'stars': 4,\n",
       "  'review': 'Professor White is great at explaining economic theories and their real-world applications. The class is challenging but very rewarding.'},\n",
       " {'professor': 'Dr. Helen Zhou',\n",
       "  'subject': 'Biochemistry',\n",
       "  'stars': 5,\n",
       "  'review': 'Dr. Zhou is incredibly knowledgeable and passionate about biochemistry. Her lectures are well-structured and she provides excellent support to students.'},\n",
       " {'professor': 'Professor Isaac Turner',\n",
       "  'subject': 'Creative Writing',\n",
       "  'stars': 4,\n",
       "  'review': 'Professor Turner encourages creativity and provides insightful feedback. The course is engaging and offers plenty of opportunities for personal expression.'},\n",
       " {'professor': 'Dr. Jessica Adams',\n",
       "  'subject': 'Physics I',\n",
       "  'stars': 3,\n",
       "  'review': 'Dr. Adams is a good teacher but the pace of the course can be too fast. The lectures are often rushed, which makes it hard to grasp some concepts.'},\n",
       " {'professor': 'Professor Kevin Harris',\n",
       "  'subject': 'Sociology',\n",
       "  'stars': 5,\n",
       "  'review': 'Professor Harris is excellent at facilitating discussions and making sociology relevant to current events. His passion for the subject is evident and inspiring.'},\n",
       " {'professor': 'Dr. Laura Kim',\n",
       "  'subject': 'Introduction to Statistics',\n",
       "  'stars': 4,\n",
       "  'review': 'Dr. Kim explains statistical concepts clearly and provides plenty of practical examples. The course is well-organized and her teaching style is engaging.'},\n",
       " {'professor': 'Professor Mark Lewis',\n",
       "  'subject': 'International Relations',\n",
       "  'stars': 3,\n",
       "  'review': 'Professor Lewis is knowledgeable but his lectures can be quite dry. He tends to focus on theory rather than practical applications, which can be a bit dull.'}]"
      ]
     },
     "execution_count": 18,
     "metadata": {},
     "output_type": "execute_result"
    }
   ],
   "source": [
    "import json\n",
    "data = json.load(open(\"reviews.json\"))\n",
    "data['reviews']"
   ]
  },
  {
   "cell_type": "code",
   "execution_count": 24,
   "metadata": {},
   "outputs": [
    {
     "ename": "AuthenticationError",
     "evalue": "Error code: 401 - {'error': {'message': 'Incorrect API key provided: sk-or-v1*************************************************************c6e8. You can find your API key at https://platform.openai.com/account/api-keys.', 'type': 'invalid_request_error', 'param': None, 'code': 'invalid_api_key'}}",
     "output_type": "error",
     "traceback": [
      "\u001b[0;31m---------------------------------------------------------------------------\u001b[0m",
      "\u001b[0;31mAuthenticationError\u001b[0m                       Traceback (most recent call last)",
      "\u001b[1;32m/Users/umerpittal/Desktop/Headstarter/AI-rate-my-professor/AI-rate-my-professor/load.ipynb Cell 4\u001b[0m line \u001b[0;36m8\n\u001b[1;32m      <a href='vscode-notebook-cell:/Users/umerpittal/Desktop/Headstarter/AI-rate-my-professor/AI-rate-my-professor/load.ipynb#W3sZmlsZQ%3D%3D?line=4'>5</a>\u001b[0m client \u001b[39m=\u001b[39m OpenAI()\n\u001b[1;32m      <a href='vscode-notebook-cell:/Users/umerpittal/Desktop/Headstarter/AI-rate-my-professor/AI-rate-my-professor/load.ipynb#W3sZmlsZQ%3D%3D?line=6'>7</a>\u001b[0m \u001b[39mfor\u001b[39;00m review \u001b[39min\u001b[39;00m data[\u001b[39m'\u001b[39m\u001b[39mreviews\u001b[39m\u001b[39m'\u001b[39m]:\n\u001b[0;32m----> <a href='vscode-notebook-cell:/Users/umerpittal/Desktop/Headstarter/AI-rate-my-professor/AI-rate-my-professor/load.ipynb#W3sZmlsZQ%3D%3D?line=7'>8</a>\u001b[0m     response \u001b[39m=\u001b[39m client\u001b[39m.\u001b[39;49membeddings\u001b[39m.\u001b[39;49mcreate(\n\u001b[1;32m      <a href='vscode-notebook-cell:/Users/umerpittal/Desktop/Headstarter/AI-rate-my-professor/AI-rate-my-professor/load.ipynb#W3sZmlsZQ%3D%3D?line=8'>9</a>\u001b[0m         \u001b[39minput\u001b[39;49m\u001b[39m=\u001b[39;49mreview[\u001b[39m'\u001b[39;49m\u001b[39mreview\u001b[39;49m\u001b[39m'\u001b[39;49m],\n\u001b[1;32m     <a href='vscode-notebook-cell:/Users/umerpittal/Desktop/Headstarter/AI-rate-my-professor/AI-rate-my-professor/load.ipynb#W3sZmlsZQ%3D%3D?line=9'>10</a>\u001b[0m         model \u001b[39m=\u001b[39;49m \u001b[39m\"\u001b[39;49m\u001b[39mtext-embedding-3-nall\u001b[39;49m\u001b[39m\"\u001b[39;49m,\n\u001b[1;32m     <a href='vscode-notebook-cell:/Users/umerpittal/Desktop/Headstarter/AI-rate-my-professor/AI-rate-my-professor/load.ipynb#W3sZmlsZQ%3D%3D?line=10'>11</a>\u001b[0m     )\n\u001b[1;32m     <a href='vscode-notebook-cell:/Users/umerpittal/Desktop/Headstarter/AI-rate-my-professor/AI-rate-my-professor/load.ipynb#W3sZmlsZQ%3D%3D?line=12'>13</a>\u001b[0m     embedding \u001b[39m=\u001b[39m response\u001b[39m.\u001b[39mdata[\u001b[39m0\u001b[39m]\u001b[39m.\u001b[39membedding\n\u001b[1;32m     <a href='vscode-notebook-cell:/Users/umerpittal/Desktop/Headstarter/AI-rate-my-professor/AI-rate-my-professor/load.ipynb#W3sZmlsZQ%3D%3D?line=13'>14</a>\u001b[0m     processd_data\u001b[39m.\u001b[39mappend({\n\u001b[1;32m     <a href='vscode-notebook-cell:/Users/umerpittal/Desktop/Headstarter/AI-rate-my-professor/AI-rate-my-professor/load.ipynb#W3sZmlsZQ%3D%3D?line=14'>15</a>\u001b[0m     \u001b[39m\"\u001b[39m\u001b[39mvalues\u001b[39m\u001b[39m\"\u001b[39m: embedding,\n\u001b[1;32m     <a href='vscode-notebook-cell:/Users/umerpittal/Desktop/Headstarter/AI-rate-my-professor/AI-rate-my-professor/load.ipynb#W3sZmlsZQ%3D%3D?line=15'>16</a>\u001b[0m     \u001b[39m\"\u001b[39m\u001b[39mid\u001b[39m\u001b[39m\"\u001b[39m: review[\u001b[39m\"\u001b[39m\u001b[39mprofessor\u001b[39m\u001b[39m\"\u001b[39m],\n\u001b[0;32m   (...)\u001b[0m\n\u001b[1;32m     <a href='vscode-notebook-cell:/Users/umerpittal/Desktop/Headstarter/AI-rate-my-professor/AI-rate-my-professor/load.ipynb#W3sZmlsZQ%3D%3D?line=18'>19</a>\u001b[0m     }\n\u001b[1;32m     <a href='vscode-notebook-cell:/Users/umerpittal/Desktop/Headstarter/AI-rate-my-professor/AI-rate-my-professor/load.ipynb#W3sZmlsZQ%3D%3D?line=19'>20</a>\u001b[0m })\n",
      "File \u001b[0;32m~/miniconda/envs/pittal_sucks/lib/python3.10/site-packages/openai/resources/embeddings.py:114\u001b[0m, in \u001b[0;36mEmbeddings.create\u001b[0;34m(self, input, model, dimensions, encoding_format, user, extra_headers, extra_query, extra_body, timeout)\u001b[0m\n\u001b[1;32m    108\u001b[0m         embedding\u001b[39m.\u001b[39membedding \u001b[39m=\u001b[39m np\u001b[39m.\u001b[39mfrombuffer(  \u001b[39m# type: ignore[no-untyped-call]\u001b[39;00m\n\u001b[1;32m    109\u001b[0m             base64\u001b[39m.\u001b[39mb64decode(data), dtype\u001b[39m=\u001b[39m\u001b[39m\"\u001b[39m\u001b[39mfloat32\u001b[39m\u001b[39m\"\u001b[39m\n\u001b[1;32m    110\u001b[0m         )\u001b[39m.\u001b[39mtolist()\n\u001b[1;32m    112\u001b[0m     \u001b[39mreturn\u001b[39;00m obj\n\u001b[0;32m--> 114\u001b[0m \u001b[39mreturn\u001b[39;00m \u001b[39mself\u001b[39;49m\u001b[39m.\u001b[39;49m_post(\n\u001b[1;32m    115\u001b[0m     \u001b[39m\"\u001b[39;49m\u001b[39m/embeddings\u001b[39;49m\u001b[39m\"\u001b[39;49m,\n\u001b[1;32m    116\u001b[0m     body\u001b[39m=\u001b[39;49mmaybe_transform(params, embedding_create_params\u001b[39m.\u001b[39;49mEmbeddingCreateParams),\n\u001b[1;32m    117\u001b[0m     options\u001b[39m=\u001b[39;49mmake_request_options(\n\u001b[1;32m    118\u001b[0m         extra_headers\u001b[39m=\u001b[39;49mextra_headers,\n\u001b[1;32m    119\u001b[0m         extra_query\u001b[39m=\u001b[39;49mextra_query,\n\u001b[1;32m    120\u001b[0m         extra_body\u001b[39m=\u001b[39;49mextra_body,\n\u001b[1;32m    121\u001b[0m         timeout\u001b[39m=\u001b[39;49mtimeout,\n\u001b[1;32m    122\u001b[0m         post_parser\u001b[39m=\u001b[39;49mparser,\n\u001b[1;32m    123\u001b[0m     ),\n\u001b[1;32m    124\u001b[0m     cast_to\u001b[39m=\u001b[39;49mCreateEmbeddingResponse,\n\u001b[1;32m    125\u001b[0m )\n",
      "File \u001b[0;32m~/miniconda/envs/pittal_sucks/lib/python3.10/site-packages/openai/_base_client.py:1260\u001b[0m, in \u001b[0;36mSyncAPIClient.post\u001b[0;34m(self, path, cast_to, body, options, files, stream, stream_cls)\u001b[0m\n\u001b[1;32m   1246\u001b[0m \u001b[39mdef\u001b[39;00m \u001b[39mpost\u001b[39m(\n\u001b[1;32m   1247\u001b[0m     \u001b[39mself\u001b[39m,\n\u001b[1;32m   1248\u001b[0m     path: \u001b[39mstr\u001b[39m,\n\u001b[0;32m   (...)\u001b[0m\n\u001b[1;32m   1255\u001b[0m     stream_cls: \u001b[39mtype\u001b[39m[_StreamT] \u001b[39m|\u001b[39m \u001b[39mNone\u001b[39;00m \u001b[39m=\u001b[39m \u001b[39mNone\u001b[39;00m,\n\u001b[1;32m   1256\u001b[0m ) \u001b[39m-\u001b[39m\u001b[39m>\u001b[39m ResponseT \u001b[39m|\u001b[39m _StreamT:\n\u001b[1;32m   1257\u001b[0m     opts \u001b[39m=\u001b[39m FinalRequestOptions\u001b[39m.\u001b[39mconstruct(\n\u001b[1;32m   1258\u001b[0m         method\u001b[39m=\u001b[39m\u001b[39m\"\u001b[39m\u001b[39mpost\u001b[39m\u001b[39m\"\u001b[39m, url\u001b[39m=\u001b[39mpath, json_data\u001b[39m=\u001b[39mbody, files\u001b[39m=\u001b[39mto_httpx_files(files), \u001b[39m*\u001b[39m\u001b[39m*\u001b[39moptions\n\u001b[1;32m   1259\u001b[0m     )\n\u001b[0;32m-> 1260\u001b[0m     \u001b[39mreturn\u001b[39;00m cast(ResponseT, \u001b[39mself\u001b[39;49m\u001b[39m.\u001b[39;49mrequest(cast_to, opts, stream\u001b[39m=\u001b[39;49mstream, stream_cls\u001b[39m=\u001b[39;49mstream_cls))\n",
      "File \u001b[0;32m~/miniconda/envs/pittal_sucks/lib/python3.10/site-packages/openai/_base_client.py:937\u001b[0m, in \u001b[0;36mSyncAPIClient.request\u001b[0;34m(self, cast_to, options, remaining_retries, stream, stream_cls)\u001b[0m\n\u001b[1;32m    928\u001b[0m \u001b[39mdef\u001b[39;00m \u001b[39mrequest\u001b[39m(\n\u001b[1;32m    929\u001b[0m     \u001b[39mself\u001b[39m,\n\u001b[1;32m    930\u001b[0m     cast_to: Type[ResponseT],\n\u001b[0;32m   (...)\u001b[0m\n\u001b[1;32m    935\u001b[0m     stream_cls: \u001b[39mtype\u001b[39m[_StreamT] \u001b[39m|\u001b[39m \u001b[39mNone\u001b[39;00m \u001b[39m=\u001b[39m \u001b[39mNone\u001b[39;00m,\n\u001b[1;32m    936\u001b[0m ) \u001b[39m-\u001b[39m\u001b[39m>\u001b[39m ResponseT \u001b[39m|\u001b[39m _StreamT:\n\u001b[0;32m--> 937\u001b[0m     \u001b[39mreturn\u001b[39;00m \u001b[39mself\u001b[39;49m\u001b[39m.\u001b[39;49m_request(\n\u001b[1;32m    938\u001b[0m         cast_to\u001b[39m=\u001b[39;49mcast_to,\n\u001b[1;32m    939\u001b[0m         options\u001b[39m=\u001b[39;49moptions,\n\u001b[1;32m    940\u001b[0m         stream\u001b[39m=\u001b[39;49mstream,\n\u001b[1;32m    941\u001b[0m         stream_cls\u001b[39m=\u001b[39;49mstream_cls,\n\u001b[1;32m    942\u001b[0m         remaining_retries\u001b[39m=\u001b[39;49mremaining_retries,\n\u001b[1;32m    943\u001b[0m     )\n",
      "File \u001b[0;32m~/miniconda/envs/pittal_sucks/lib/python3.10/site-packages/openai/_base_client.py:1041\u001b[0m, in \u001b[0;36mSyncAPIClient._request\u001b[0;34m(self, cast_to, options, remaining_retries, stream, stream_cls)\u001b[0m\n\u001b[1;32m   1038\u001b[0m         err\u001b[39m.\u001b[39mresponse\u001b[39m.\u001b[39mread()\n\u001b[1;32m   1040\u001b[0m     log\u001b[39m.\u001b[39mdebug(\u001b[39m\"\u001b[39m\u001b[39mRe-raising status error\u001b[39m\u001b[39m\"\u001b[39m)\n\u001b[0;32m-> 1041\u001b[0m     \u001b[39mraise\u001b[39;00m \u001b[39mself\u001b[39m\u001b[39m.\u001b[39m_make_status_error_from_response(err\u001b[39m.\u001b[39mresponse) \u001b[39mfrom\u001b[39;00m \u001b[39mNone\u001b[39;00m\n\u001b[1;32m   1043\u001b[0m \u001b[39mreturn\u001b[39;00m \u001b[39mself\u001b[39m\u001b[39m.\u001b[39m_process_response(\n\u001b[1;32m   1044\u001b[0m     cast_to\u001b[39m=\u001b[39mcast_to,\n\u001b[1;32m   1045\u001b[0m     options\u001b[39m=\u001b[39moptions,\n\u001b[0;32m   (...)\u001b[0m\n\u001b[1;32m   1049\u001b[0m     retries_taken\u001b[39m=\u001b[39moptions\u001b[39m.\u001b[39mget_max_retries(\u001b[39mself\u001b[39m\u001b[39m.\u001b[39mmax_retries) \u001b[39m-\u001b[39m retries,\n\u001b[1;32m   1050\u001b[0m )\n",
      "\u001b[0;31mAuthenticationError\u001b[0m: Error code: 401 - {'error': {'message': 'Incorrect API key provided: sk-or-v1*************************************************************c6e8. You can find your API key at https://platform.openai.com/account/api-keys.', 'type': 'invalid_request_error', 'param': None, 'code': 'invalid_api_key'}}"
     ]
    }
   ],
   "source": [
    "from openai import OpenAI\n",
    "\n",
    "\n",
    "processd_data = []\n",
    "client = OpenAI()\n",
    "\n",
    "for review in data['reviews']:\n",
    "    response = client.embeddings.create(\n",
    "        input=review['review'],\n",
    "        model = \"text-embedding-3-nall\",\n",
    "    )\n",
    "    \n",
    "    embedding = response.data[0].embedding\n",
    "    processd_data.append({\n",
    "    \"values\": embedding,\n",
    "    \"id\": review[\"professor\"],\n",
    "    \"metadata\": {\n",
    "        \"review\": review['review']\n",
    "    }\n",
    "})"
   ]
  },
  {
   "cell_type": "code",
   "execution_count": 25,
   "metadata": {},
   "outputs": [
    {
     "ename": "PineconeApiException",
     "evalue": "(400)\nReason: Bad Request\nHTTP response headers: HTTPHeaderDict({'Date': 'Sat, 24 Aug 2024 21:51:00 GMT', 'Content-Type': 'application/json', 'Content-Length': '74', 'Connection': 'keep-alive', 'x-pinecone-request-latency-ms': '45', 'x-pinecone-request-id': '2313991395812133150', 'x-envoy-upstream-service-time': '46', 'server': 'envoy'})\nHTTP response body: {\"code\":3,\"message\":\"No vectors provided for upsert request\",\"details\":[]}\n",
     "output_type": "error",
     "traceback": [
      "\u001b[0;31m---------------------------------------------------------------------------\u001b[0m",
      "\u001b[0;31mPineconeApiException\u001b[0m                      Traceback (most recent call last)",
      "\u001b[1;32m/Users/umerpittal/Desktop/Headstarter/AI-rate-my-professor/AI-rate-my-professor/load.ipynb Cell 5\u001b[0m line \u001b[0;36m2\n\u001b[1;32m      <a href='vscode-notebook-cell:/Users/umerpittal/Desktop/Headstarter/AI-rate-my-professor/AI-rate-my-professor/load.ipynb#W4sZmlsZQ%3D%3D?line=0'>1</a>\u001b[0m index \u001b[39m=\u001b[39m pc\u001b[39m.\u001b[39mIndex(\u001b[39m'\u001b[39m\u001b[39mrag\u001b[39m\u001b[39m'\u001b[39m)\n\u001b[0;32m----> <a href='vscode-notebook-cell:/Users/umerpittal/Desktop/Headstarter/AI-rate-my-professor/AI-rate-my-professor/load.ipynb#W4sZmlsZQ%3D%3D?line=1'>2</a>\u001b[0m index\u001b[39m.\u001b[39;49mupsert(\n\u001b[1;32m      <a href='vscode-notebook-cell:/Users/umerpittal/Desktop/Headstarter/AI-rate-my-professor/AI-rate-my-professor/load.ipynb#W4sZmlsZQ%3D%3D?line=2'>3</a>\u001b[0m     vectors\u001b[39m=\u001b[39;49mprocessd_data,\n\u001b[1;32m      <a href='vscode-notebook-cell:/Users/umerpittal/Desktop/Headstarter/AI-rate-my-professor/AI-rate-my-professor/load.ipynb#W4sZmlsZQ%3D%3D?line=3'>4</a>\u001b[0m     namespace\u001b[39m=\u001b[39;49m\u001b[39m\"\u001b[39;49m\u001b[39mns1\u001b[39;49m\u001b[39m\"\u001b[39;49m\n\u001b[1;32m      <a href='vscode-notebook-cell:/Users/umerpittal/Desktop/Headstarter/AI-rate-my-professor/AI-rate-my-professor/load.ipynb#W4sZmlsZQ%3D%3D?line=4'>5</a>\u001b[0m )\n",
      "File \u001b[0;32m~/miniconda/envs/pittal_sucks/lib/python3.10/site-packages/pinecone/utils/error_handling.py:11\u001b[0m, in \u001b[0;36mvalidate_and_convert_errors.<locals>.inner_func\u001b[0;34m(*args, **kwargs)\u001b[0m\n\u001b[1;32m      8\u001b[0m \u001b[39m@wraps\u001b[39m(func)\n\u001b[1;32m      9\u001b[0m \u001b[39mdef\u001b[39;00m \u001b[39minner_func\u001b[39m(\u001b[39m*\u001b[39margs, \u001b[39m*\u001b[39m\u001b[39m*\u001b[39mkwargs):\n\u001b[1;32m     10\u001b[0m     \u001b[39mtry\u001b[39;00m:\n\u001b[0;32m---> 11\u001b[0m         \u001b[39mreturn\u001b[39;00m func(\u001b[39m*\u001b[39;49margs, \u001b[39m*\u001b[39;49m\u001b[39m*\u001b[39;49mkwargs)\n\u001b[1;32m     12\u001b[0m     \u001b[39mexcept\u001b[39;00m MaxRetryError \u001b[39mas\u001b[39;00m e:\n\u001b[1;32m     13\u001b[0m         \u001b[39mif\u001b[39;00m \u001b[39misinstance\u001b[39m(e\u001b[39m.\u001b[39mreason, ProtocolError):\n",
      "File \u001b[0;32m~/miniconda/envs/pittal_sucks/lib/python3.10/site-packages/pinecone/data/index.py:175\u001b[0m, in \u001b[0;36mIndex.upsert\u001b[0;34m(self, vectors, namespace, batch_size, show_progress, **kwargs)\u001b[0m\n\u001b[1;32m    168\u001b[0m     \u001b[39mraise\u001b[39;00m \u001b[39mValueError\u001b[39;00m(\n\u001b[1;32m    169\u001b[0m         \u001b[39m\"\u001b[39m\u001b[39masync_req is not supported when batch_size is provided.\u001b[39m\u001b[39m\"\u001b[39m\n\u001b[1;32m    170\u001b[0m         \u001b[39m\"\u001b[39m\u001b[39mTo upsert in parallel, please follow: \u001b[39m\u001b[39m\"\u001b[39m\n\u001b[1;32m    171\u001b[0m         \u001b[39m\"\u001b[39m\u001b[39mhttps://docs.pinecone.io/docs/insert-data#sending-upserts-in-parallel\u001b[39m\u001b[39m\"\u001b[39m\n\u001b[1;32m    172\u001b[0m     )\n\u001b[1;32m    174\u001b[0m \u001b[39mif\u001b[39;00m batch_size \u001b[39mis\u001b[39;00m \u001b[39mNone\u001b[39;00m:\n\u001b[0;32m--> 175\u001b[0m     \u001b[39mreturn\u001b[39;00m \u001b[39mself\u001b[39;49m\u001b[39m.\u001b[39;49m_upsert_batch(vectors, namespace, _check_type, \u001b[39m*\u001b[39;49m\u001b[39m*\u001b[39;49mkwargs)\n\u001b[1;32m    177\u001b[0m \u001b[39mif\u001b[39;00m \u001b[39mnot\u001b[39;00m \u001b[39misinstance\u001b[39m(batch_size, \u001b[39mint\u001b[39m) \u001b[39mor\u001b[39;00m batch_size \u001b[39m<\u001b[39m\u001b[39m=\u001b[39m \u001b[39m0\u001b[39m:\n\u001b[1;32m    178\u001b[0m     \u001b[39mraise\u001b[39;00m \u001b[39mValueError\u001b[39;00m(\u001b[39m\"\u001b[39m\u001b[39mbatch_size must be a positive integer\u001b[39m\u001b[39m\"\u001b[39m)\n",
      "File \u001b[0;32m~/miniconda/envs/pittal_sucks/lib/python3.10/site-packages/pinecone/data/index.py:204\u001b[0m, in \u001b[0;36mIndex._upsert_batch\u001b[0;34m(self, vectors, namespace, _check_type, **kwargs)\u001b[0m\n\u001b[1;32m    201\u001b[0m args_dict \u001b[39m=\u001b[39m \u001b[39mself\u001b[39m\u001b[39m.\u001b[39m_parse_non_empty_args([(\u001b[39m\"\u001b[39m\u001b[39mnamespace\u001b[39m\u001b[39m\"\u001b[39m, namespace)])\n\u001b[1;32m    202\u001b[0m vec_builder \u001b[39m=\u001b[39m \u001b[39mlambda\u001b[39;00m v: VectorFactory\u001b[39m.\u001b[39mbuild(v, check_type\u001b[39m=\u001b[39m_check_type)\n\u001b[0;32m--> 204\u001b[0m \u001b[39mreturn\u001b[39;00m \u001b[39mself\u001b[39;49m\u001b[39m.\u001b[39;49m_vector_api\u001b[39m.\u001b[39;49mupsert(\n\u001b[1;32m    205\u001b[0m     UpsertRequest(\n\u001b[1;32m    206\u001b[0m         vectors\u001b[39m=\u001b[39;49m\u001b[39mlist\u001b[39;49m(\u001b[39mmap\u001b[39;49m(vec_builder, vectors)),\n\u001b[1;32m    207\u001b[0m         \u001b[39m*\u001b[39;49m\u001b[39m*\u001b[39;49margs_dict,\n\u001b[1;32m    208\u001b[0m         _check_type\u001b[39m=\u001b[39;49m_check_type,\n\u001b[1;32m    209\u001b[0m         \u001b[39m*\u001b[39;49m\u001b[39m*\u001b[39;49m{k: v \u001b[39mfor\u001b[39;49;00m k, v \u001b[39min\u001b[39;49;00m kwargs\u001b[39m.\u001b[39;49mitems() \u001b[39mif\u001b[39;49;00m k \u001b[39mnot\u001b[39;49;00m \u001b[39min\u001b[39;49;00m _OPENAPI_ENDPOINT_PARAMS},\n\u001b[1;32m    210\u001b[0m     ),\n\u001b[1;32m    211\u001b[0m     \u001b[39m*\u001b[39;49m\u001b[39m*\u001b[39;49m{k: v \u001b[39mfor\u001b[39;49;00m k, v \u001b[39min\u001b[39;49;00m kwargs\u001b[39m.\u001b[39;49mitems() \u001b[39mif\u001b[39;49;00m k \u001b[39min\u001b[39;49;00m _OPENAPI_ENDPOINT_PARAMS},\n\u001b[1;32m    212\u001b[0m )\n",
      "File \u001b[0;32m~/miniconda/envs/pittal_sucks/lib/python3.10/site-packages/pinecone/core/openapi/shared/api_client.py:761\u001b[0m, in \u001b[0;36mEndpoint.__call__\u001b[0;34m(self, *args, **kwargs)\u001b[0m\n\u001b[1;32m    750\u001b[0m \u001b[39mdef\u001b[39;00m \u001b[39m__call__\u001b[39m(\u001b[39mself\u001b[39m, \u001b[39m*\u001b[39margs, \u001b[39m*\u001b[39m\u001b[39m*\u001b[39mkwargs):\n\u001b[1;32m    751\u001b[0m \u001b[39m    \u001b[39m\u001b[39m\"\"\"This method is invoked when endpoints are called\u001b[39;00m\n\u001b[1;32m    752\u001b[0m \u001b[39m    Example:\u001b[39;00m\n\u001b[1;32m    753\u001b[0m \n\u001b[0;32m   (...)\u001b[0m\n\u001b[1;32m    759\u001b[0m \n\u001b[1;32m    760\u001b[0m \u001b[39m    \"\"\"\u001b[39;00m\n\u001b[0;32m--> 761\u001b[0m     \u001b[39mreturn\u001b[39;00m \u001b[39mself\u001b[39;49m\u001b[39m.\u001b[39;49mcallable(\u001b[39mself\u001b[39;49m, \u001b[39m*\u001b[39;49margs, \u001b[39m*\u001b[39;49m\u001b[39m*\u001b[39;49mkwargs)\n",
      "File \u001b[0;32m~/miniconda/envs/pittal_sucks/lib/python3.10/site-packages/pinecone/core/openapi/data/api/data_plane_api.py:811\u001b[0m, in \u001b[0;36mDataPlaneApi.__init__.<locals>.__upsert\u001b[0;34m(self, upsert_request, **kwargs)\u001b[0m\n\u001b[1;32m    809\u001b[0m kwargs[\u001b[39m\"\u001b[39m\u001b[39m_host_index\u001b[39m\u001b[39m\"\u001b[39m] \u001b[39m=\u001b[39m kwargs\u001b[39m.\u001b[39mget(\u001b[39m\"\u001b[39m\u001b[39m_host_index\u001b[39m\u001b[39m\"\u001b[39m)\n\u001b[1;32m    810\u001b[0m kwargs[\u001b[39m\"\u001b[39m\u001b[39mupsert_request\u001b[39m\u001b[39m\"\u001b[39m] \u001b[39m=\u001b[39m upsert_request\n\u001b[0;32m--> 811\u001b[0m \u001b[39mreturn\u001b[39;00m \u001b[39mself\u001b[39;49m\u001b[39m.\u001b[39;49mcall_with_http_info(\u001b[39m*\u001b[39;49m\u001b[39m*\u001b[39;49mkwargs)\n",
      "File \u001b[0;32m~/miniconda/envs/pittal_sucks/lib/python3.10/site-packages/pinecone/core/openapi/shared/api_client.py:819\u001b[0m, in \u001b[0;36mEndpoint.call_with_http_info\u001b[0;34m(self, **kwargs)\u001b[0m\n\u001b[1;32m    816\u001b[0m     header_list \u001b[39m=\u001b[39m \u001b[39mself\u001b[39m\u001b[39m.\u001b[39mapi_client\u001b[39m.\u001b[39mselect_header_content_type(content_type_headers_list)\n\u001b[1;32m    817\u001b[0m     params[\u001b[39m\"\u001b[39m\u001b[39mheader\u001b[39m\u001b[39m\"\u001b[39m][\u001b[39m\"\u001b[39m\u001b[39mContent-Type\u001b[39m\u001b[39m\"\u001b[39m] \u001b[39m=\u001b[39m header_list\n\u001b[0;32m--> 819\u001b[0m \u001b[39mreturn\u001b[39;00m \u001b[39mself\u001b[39;49m\u001b[39m.\u001b[39;49mapi_client\u001b[39m.\u001b[39;49mcall_api(\n\u001b[1;32m    820\u001b[0m     \u001b[39mself\u001b[39;49m\u001b[39m.\u001b[39;49msettings[\u001b[39m\"\u001b[39;49m\u001b[39mendpoint_path\u001b[39;49m\u001b[39m\"\u001b[39;49m],\n\u001b[1;32m    821\u001b[0m     \u001b[39mself\u001b[39;49m\u001b[39m.\u001b[39;49msettings[\u001b[39m\"\u001b[39;49m\u001b[39mhttp_method\u001b[39;49m\u001b[39m\"\u001b[39;49m],\n\u001b[1;32m    822\u001b[0m     params[\u001b[39m\"\u001b[39;49m\u001b[39mpath\u001b[39;49m\u001b[39m\"\u001b[39;49m],\n\u001b[1;32m    823\u001b[0m     params[\u001b[39m\"\u001b[39;49m\u001b[39mquery\u001b[39;49m\u001b[39m\"\u001b[39;49m],\n\u001b[1;32m    824\u001b[0m     params[\u001b[39m\"\u001b[39;49m\u001b[39mheader\u001b[39;49m\u001b[39m\"\u001b[39;49m],\n\u001b[1;32m    825\u001b[0m     body\u001b[39m=\u001b[39;49mparams[\u001b[39m\"\u001b[39;49m\u001b[39mbody\u001b[39;49m\u001b[39m\"\u001b[39;49m],\n\u001b[1;32m    826\u001b[0m     post_params\u001b[39m=\u001b[39;49mparams[\u001b[39m\"\u001b[39;49m\u001b[39mform\u001b[39;49m\u001b[39m\"\u001b[39;49m],\n\u001b[1;32m    827\u001b[0m     files\u001b[39m=\u001b[39;49mparams[\u001b[39m\"\u001b[39;49m\u001b[39mfile\u001b[39;49m\u001b[39m\"\u001b[39;49m],\n\u001b[1;32m    828\u001b[0m     response_type\u001b[39m=\u001b[39;49m\u001b[39mself\u001b[39;49m\u001b[39m.\u001b[39;49msettings[\u001b[39m\"\u001b[39;49m\u001b[39mresponse_type\u001b[39;49m\u001b[39m\"\u001b[39;49m],\n\u001b[1;32m    829\u001b[0m     auth_settings\u001b[39m=\u001b[39;49m\u001b[39mself\u001b[39;49m\u001b[39m.\u001b[39;49msettings[\u001b[39m\"\u001b[39;49m\u001b[39mauth\u001b[39;49m\u001b[39m\"\u001b[39;49m],\n\u001b[1;32m    830\u001b[0m     async_req\u001b[39m=\u001b[39;49mkwargs[\u001b[39m\"\u001b[39;49m\u001b[39masync_req\u001b[39;49m\u001b[39m\"\u001b[39;49m],\n\u001b[1;32m    831\u001b[0m     _check_type\u001b[39m=\u001b[39;49mkwargs[\u001b[39m\"\u001b[39;49m\u001b[39m_check_return_type\u001b[39;49m\u001b[39m\"\u001b[39;49m],\n\u001b[1;32m    832\u001b[0m     _return_http_data_only\u001b[39m=\u001b[39;49mkwargs[\u001b[39m\"\u001b[39;49m\u001b[39m_return_http_data_only\u001b[39;49m\u001b[39m\"\u001b[39;49m],\n\u001b[1;32m    833\u001b[0m     _preload_content\u001b[39m=\u001b[39;49mkwargs[\u001b[39m\"\u001b[39;49m\u001b[39m_preload_content\u001b[39;49m\u001b[39m\"\u001b[39;49m],\n\u001b[1;32m    834\u001b[0m     _request_timeout\u001b[39m=\u001b[39;49mkwargs[\u001b[39m\"\u001b[39;49m\u001b[39m_request_timeout\u001b[39;49m\u001b[39m\"\u001b[39;49m],\n\u001b[1;32m    835\u001b[0m     _host\u001b[39m=\u001b[39;49m_host,\n\u001b[1;32m    836\u001b[0m     collection_formats\u001b[39m=\u001b[39;49mparams[\u001b[39m\"\u001b[39;49m\u001b[39mcollection_format\u001b[39;49m\u001b[39m\"\u001b[39;49m],\n\u001b[1;32m    837\u001b[0m )\n",
      "File \u001b[0;32m~/miniconda/envs/pittal_sucks/lib/python3.10/site-packages/pinecone/core/openapi/shared/api_client.py:380\u001b[0m, in \u001b[0;36mApiClient.call_api\u001b[0;34m(self, resource_path, method, path_params, query_params, header_params, body, post_params, files, response_type, auth_settings, async_req, _return_http_data_only, collection_formats, _preload_content, _request_timeout, _host, _check_type)\u001b[0m\n\u001b[1;32m    326\u001b[0m \u001b[39m\u001b[39m\u001b[39m\"\"\"Makes the HTTP request (synchronous) and returns deserialized data.\u001b[39;00m\n\u001b[1;32m    327\u001b[0m \n\u001b[1;32m    328\u001b[0m \u001b[39mTo make an async_req request, set the async_req parameter.\u001b[39;00m\n\u001b[0;32m   (...)\u001b[0m\n\u001b[1;32m    377\u001b[0m \u001b[39m    then the method will return the response directly.\u001b[39;00m\n\u001b[1;32m    378\u001b[0m \u001b[39m\"\"\"\u001b[39;00m\n\u001b[1;32m    379\u001b[0m \u001b[39mif\u001b[39;00m \u001b[39mnot\u001b[39;00m async_req:\n\u001b[0;32m--> 380\u001b[0m     \u001b[39mreturn\u001b[39;00m \u001b[39mself\u001b[39;49m\u001b[39m.\u001b[39;49m__call_api(\n\u001b[1;32m    381\u001b[0m         resource_path,\n\u001b[1;32m    382\u001b[0m         method,\n\u001b[1;32m    383\u001b[0m         path_params,\n\u001b[1;32m    384\u001b[0m         query_params,\n\u001b[1;32m    385\u001b[0m         header_params,\n\u001b[1;32m    386\u001b[0m         body,\n\u001b[1;32m    387\u001b[0m         post_params,\n\u001b[1;32m    388\u001b[0m         files,\n\u001b[1;32m    389\u001b[0m         response_type,\n\u001b[1;32m    390\u001b[0m         auth_settings,\n\u001b[1;32m    391\u001b[0m         _return_http_data_only,\n\u001b[1;32m    392\u001b[0m         collection_formats,\n\u001b[1;32m    393\u001b[0m         _preload_content,\n\u001b[1;32m    394\u001b[0m         _request_timeout,\n\u001b[1;32m    395\u001b[0m         _host,\n\u001b[1;32m    396\u001b[0m         _check_type,\n\u001b[1;32m    397\u001b[0m     )\n\u001b[1;32m    399\u001b[0m \u001b[39mreturn\u001b[39;00m \u001b[39mself\u001b[39m\u001b[39m.\u001b[39mpool\u001b[39m.\u001b[39mapply_async(\n\u001b[1;32m    400\u001b[0m     \u001b[39mself\u001b[39m\u001b[39m.\u001b[39m__call_api,\n\u001b[1;32m    401\u001b[0m     (\n\u001b[0;32m   (...)\u001b[0m\n\u001b[1;32m    418\u001b[0m     ),\n\u001b[1;32m    419\u001b[0m )\n",
      "File \u001b[0;32m~/miniconda/envs/pittal_sucks/lib/python3.10/site-packages/pinecone/core/openapi/shared/api_client.py:187\u001b[0m, in \u001b[0;36mApiClient.__call_api\u001b[0;34m(self, resource_path, method, path_params, query_params, header_params, body, post_params, files, response_type, auth_settings, _return_http_data_only, collection_formats, _preload_content, _request_timeout, _host, _check_type)\u001b[0m\n\u001b[1;32m    185\u001b[0m \u001b[39mexcept\u001b[39;00m PineconeApiException \u001b[39mas\u001b[39;00m e:\n\u001b[1;32m    186\u001b[0m     e\u001b[39m.\u001b[39mbody \u001b[39m=\u001b[39m e\u001b[39m.\u001b[39mbody\u001b[39m.\u001b[39mdecode(\u001b[39m\"\u001b[39m\u001b[39mutf-8\u001b[39m\u001b[39m\"\u001b[39m)\n\u001b[0;32m--> 187\u001b[0m     \u001b[39mraise\u001b[39;00m e\n\u001b[1;32m    189\u001b[0m \u001b[39mself\u001b[39m\u001b[39m.\u001b[39mlast_response \u001b[39m=\u001b[39m response_data\n\u001b[1;32m    191\u001b[0m return_data \u001b[39m=\u001b[39m response_data\n",
      "File \u001b[0;32m~/miniconda/envs/pittal_sucks/lib/python3.10/site-packages/pinecone/core/openapi/shared/api_client.py:175\u001b[0m, in \u001b[0;36mApiClient.__call_api\u001b[0;34m(self, resource_path, method, path_params, query_params, header_params, body, post_params, files, response_type, auth_settings, _return_http_data_only, collection_formats, _preload_content, _request_timeout, _host, _check_type)\u001b[0m\n\u001b[1;32m    171\u001b[0m     url \u001b[39m=\u001b[39m _host \u001b[39m+\u001b[39m resource_path\n\u001b[1;32m    173\u001b[0m \u001b[39mtry\u001b[39;00m:\n\u001b[1;32m    174\u001b[0m     \u001b[39m# perform request and return response\u001b[39;00m\n\u001b[0;32m--> 175\u001b[0m     response_data \u001b[39m=\u001b[39m \u001b[39mself\u001b[39;49m\u001b[39m.\u001b[39;49mrequest(\n\u001b[1;32m    176\u001b[0m         method,\n\u001b[1;32m    177\u001b[0m         url,\n\u001b[1;32m    178\u001b[0m         query_params\u001b[39m=\u001b[39;49mquery_params,\n\u001b[1;32m    179\u001b[0m         headers\u001b[39m=\u001b[39;49mheader_params,\n\u001b[1;32m    180\u001b[0m         post_params\u001b[39m=\u001b[39;49mpost_params,\n\u001b[1;32m    181\u001b[0m         body\u001b[39m=\u001b[39;49mbody,\n\u001b[1;32m    182\u001b[0m         _preload_content\u001b[39m=\u001b[39;49m_preload_content,\n\u001b[1;32m    183\u001b[0m         _request_timeout\u001b[39m=\u001b[39;49m_request_timeout,\n\u001b[1;32m    184\u001b[0m     )\n\u001b[1;32m    185\u001b[0m \u001b[39mexcept\u001b[39;00m PineconeApiException \u001b[39mas\u001b[39;00m e:\n\u001b[1;32m    186\u001b[0m     e\u001b[39m.\u001b[39mbody \u001b[39m=\u001b[39m e\u001b[39m.\u001b[39mbody\u001b[39m.\u001b[39mdecode(\u001b[39m\"\u001b[39m\u001b[39mutf-8\u001b[39m\u001b[39m\"\u001b[39m)\n",
      "File \u001b[0;32m~/miniconda/envs/pittal_sucks/lib/python3.10/site-packages/pinecone/core/openapi/shared/api_client.py:460\u001b[0m, in \u001b[0;36mApiClient.request\u001b[0;34m(self, method, url, query_params, headers, post_params, body, _preload_content, _request_timeout)\u001b[0m\n\u001b[1;32m    450\u001b[0m     \u001b[39mreturn\u001b[39;00m \u001b[39mself\u001b[39m\u001b[39m.\u001b[39mrest_client\u001b[39m.\u001b[39mOPTIONS(\n\u001b[1;32m    451\u001b[0m         url,\n\u001b[1;32m    452\u001b[0m         query_params\u001b[39m=\u001b[39mquery_params,\n\u001b[0;32m   (...)\u001b[0m\n\u001b[1;32m    457\u001b[0m         body\u001b[39m=\u001b[39mbody,\n\u001b[1;32m    458\u001b[0m     )\n\u001b[1;32m    459\u001b[0m \u001b[39melif\u001b[39;00m method \u001b[39m==\u001b[39m \u001b[39m\"\u001b[39m\u001b[39mPOST\u001b[39m\u001b[39m\"\u001b[39m:\n\u001b[0;32m--> 460\u001b[0m     \u001b[39mreturn\u001b[39;00m \u001b[39mself\u001b[39;49m\u001b[39m.\u001b[39;49mrest_client\u001b[39m.\u001b[39;49mPOST(\n\u001b[1;32m    461\u001b[0m         url,\n\u001b[1;32m    462\u001b[0m         query_params\u001b[39m=\u001b[39;49mquery_params,\n\u001b[1;32m    463\u001b[0m         headers\u001b[39m=\u001b[39;49mheaders,\n\u001b[1;32m    464\u001b[0m         post_params\u001b[39m=\u001b[39;49mpost_params,\n\u001b[1;32m    465\u001b[0m         _preload_content\u001b[39m=\u001b[39;49m_preload_content,\n\u001b[1;32m    466\u001b[0m         _request_timeout\u001b[39m=\u001b[39;49m_request_timeout,\n\u001b[1;32m    467\u001b[0m         body\u001b[39m=\u001b[39;49mbody,\n\u001b[1;32m    468\u001b[0m     )\n\u001b[1;32m    469\u001b[0m \u001b[39melif\u001b[39;00m method \u001b[39m==\u001b[39m \u001b[39m\"\u001b[39m\u001b[39mPUT\u001b[39m\u001b[39m\"\u001b[39m:\n\u001b[1;32m    470\u001b[0m     \u001b[39mreturn\u001b[39;00m \u001b[39mself\u001b[39m\u001b[39m.\u001b[39mrest_client\u001b[39m.\u001b[39mPUT(\n\u001b[1;32m    471\u001b[0m         url,\n\u001b[1;32m    472\u001b[0m         query_params\u001b[39m=\u001b[39mquery_params,\n\u001b[0;32m   (...)\u001b[0m\n\u001b[1;32m    477\u001b[0m         body\u001b[39m=\u001b[39mbody,\n\u001b[1;32m    478\u001b[0m     )\n",
      "File \u001b[0;32m~/miniconda/envs/pittal_sucks/lib/python3.10/site-packages/pinecone/core/openapi/shared/rest.py:345\u001b[0m, in \u001b[0;36mRESTClientObject.POST\u001b[0;34m(self, url, headers, query_params, post_params, body, _preload_content, _request_timeout)\u001b[0m\n\u001b[1;32m    335\u001b[0m \u001b[39mdef\u001b[39;00m \u001b[39mPOST\u001b[39m(\n\u001b[1;32m    336\u001b[0m     \u001b[39mself\u001b[39m,\n\u001b[1;32m    337\u001b[0m     url,\n\u001b[0;32m   (...)\u001b[0m\n\u001b[1;32m    343\u001b[0m     _request_timeout\u001b[39m=\u001b[39m\u001b[39mNone\u001b[39;00m,\n\u001b[1;32m    344\u001b[0m ):\n\u001b[0;32m--> 345\u001b[0m     \u001b[39mreturn\u001b[39;00m \u001b[39mself\u001b[39;49m\u001b[39m.\u001b[39;49mrequest(\n\u001b[1;32m    346\u001b[0m         \u001b[39m\"\u001b[39;49m\u001b[39mPOST\u001b[39;49m\u001b[39m\"\u001b[39;49m,\n\u001b[1;32m    347\u001b[0m         url,\n\u001b[1;32m    348\u001b[0m         headers\u001b[39m=\u001b[39;49mheaders,\n\u001b[1;32m    349\u001b[0m         query_params\u001b[39m=\u001b[39;49mquery_params,\n\u001b[1;32m    350\u001b[0m         post_params\u001b[39m=\u001b[39;49mpost_params,\n\u001b[1;32m    351\u001b[0m         _preload_content\u001b[39m=\u001b[39;49m_preload_content,\n\u001b[1;32m    352\u001b[0m         _request_timeout\u001b[39m=\u001b[39;49m_request_timeout,\n\u001b[1;32m    353\u001b[0m         body\u001b[39m=\u001b[39;49mbody,\n\u001b[1;32m    354\u001b[0m     )\n",
      "File \u001b[0;32m~/miniconda/envs/pittal_sucks/lib/python3.10/site-packages/pinecone/core/openapi/shared/rest.py:279\u001b[0m, in \u001b[0;36mRESTClientObject.request\u001b[0;34m(self, method, url, query_params, headers, body, post_params, _preload_content, _request_timeout)\u001b[0m\n\u001b[1;32m    276\u001b[0m     \u001b[39mif\u001b[39;00m \u001b[39m500\u001b[39m \u001b[39m<\u001b[39m\u001b[39m=\u001b[39m r\u001b[39m.\u001b[39mstatus \u001b[39m<\u001b[39m\u001b[39m=\u001b[39m \u001b[39m599\u001b[39m:\n\u001b[1;32m    277\u001b[0m         \u001b[39mraise\u001b[39;00m ServiceException(http_resp\u001b[39m=\u001b[39mr)\n\u001b[0;32m--> 279\u001b[0m     \u001b[39mraise\u001b[39;00m PineconeApiException(http_resp\u001b[39m=\u001b[39mr)\n\u001b[1;32m    281\u001b[0m \u001b[39mreturn\u001b[39;00m r\n",
      "\u001b[0;31mPineconeApiException\u001b[0m: (400)\nReason: Bad Request\nHTTP response headers: HTTPHeaderDict({'Date': 'Sat, 24 Aug 2024 21:51:00 GMT', 'Content-Type': 'application/json', 'Content-Length': '74', 'Connection': 'keep-alive', 'x-pinecone-request-latency-ms': '45', 'x-pinecone-request-id': '2313991395812133150', 'x-envoy-upstream-service-time': '46', 'server': 'envoy'})\nHTTP response body: {\"code\":3,\"message\":\"No vectors provided for upsert request\",\"details\":[]}\n"
     ]
    }
   ],
   "source": [
    "\n",
    "index = pc.Index('rag')\n",
    "index.upsert(\n",
    "    vectors=processd_data,\n",
    "    namespace=\"ns1\"\n",
    ")"
   ]
  },
  {
   "cell_type": "code",
   "execution_count": null,
   "metadata": {},
   "outputs": [],
   "source": [
    "index.describe_index_stats()"
   ]
  }
 ],
 "metadata": {
  "kernelspec": {
   "display_name": "Python 3",
   "language": "python",
   "name": "python3"
  },
  "language_info": {
   "codemirror_mode": {
    "name": "ipython",
    "version": 3
   },
   "file_extension": ".py",
   "mimetype": "text/x-python",
   "name": "python",
   "nbconvert_exporter": "python",
   "pygments_lexer": "ipython3",
   "version": "3.10.14"
  },
  "orig_nbformat": 4
 },
 "nbformat": 4,
 "nbformat_minor": 2
}
